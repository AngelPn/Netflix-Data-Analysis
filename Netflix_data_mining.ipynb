{
  "nbformat": 4,
  "nbformat_minor": 0,
  "metadata": {
    "colab": {
      "name": "Netflix_data_mining.ipynb",
      "provenance": [],
      "authorship_tag": "ABX9TyMx/oteq/j/xvPQRJSFGC9f"
    },
    "kernelspec": {
      "name": "python3",
      "display_name": "Python 3"
    },
    "language_info": {
      "name": "python"
    }
  },
  "cells": [
    {
      "cell_type": "code",
      "metadata": {
        "id": "x17d6wgS23T7",
        "colab": {
          "base_uri": "https://localhost:8080/"
        },
        "outputId": "707b6d05-5a0e-491a-806d-9fd2fc63e973"
      },
      "source": [
        "from google.colab import drive\n",
        "drive.mount('/content/gdrive')"
      ],
      "execution_count": 1,
      "outputs": [
        {
          "output_type": "stream",
          "text": [
            "Mounted at /content/gdrive\n"
          ],
          "name": "stdout"
        }
      ]
    }
  ]
}