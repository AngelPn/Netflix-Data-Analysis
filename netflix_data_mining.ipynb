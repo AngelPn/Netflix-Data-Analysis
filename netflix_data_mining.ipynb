{
  "nbformat": 4,
  "nbformat_minor": 0,
  "metadata": {
    "colab": {
      "name": "netflix_data_mining.ipynb",
      "provenance": [],
      "collapsed_sections": [],
      "include_colab_link": true
    },
    "kernelspec": {
      "name": "python3",
      "display_name": "Python 3"
    },
    "language_info": {
      "name": "python"
    }
  },
  "cells": [
    {
      "cell_type": "markdown",
      "metadata": {
        "id": "view-in-github",
        "colab_type": "text"
      },
      "source": [
        "<a href=\"https://colab.research.google.com/github/AngelPn/Netflix-Data-Analysis/blob/main/netflix_data_mining.ipynb\" target=\"_parent\"><img src=\"https://colab.research.google.com/assets/colab-badge.svg\" alt=\"Open In Colab\"/></a>"
      ]
    },
    {
      "cell_type": "markdown",
      "metadata": {
        "id": "TWly4nD4V6Hs"
      },
      "source": [
        "# Netflix Data Mining Notebook\n",
        "This notebook deals with data from a well-known content platform and production company, Netflix. The following questions will be answered:\n",
        "1. Which show type is superior, the movies or the series?\n",
        "2. Has Netflix invested more in movies or series in recent years?\n",
        "3. Which country has the most content?\n",
        "4. What kind of content does each country have?\n",
        "5. Plot graphs showing the actors with the most movies in\n",
        "each country. Do the same for the series.\n",
        "6. Plot a graph that gathers the number of\n",
        "movies depending on the suggested age. Do the same for the series.\n",
        "7. If a producer wanted to have a high audience, he thinks it would\n",
        "be better to make his film at a time when it does not exist much\n",
        "competition. Plot a graph with the content added per month\n",
        "to help him choose the right time period.\n",
        "8. Prepare a chart that summarizes the types of content.\n",
        "9. Plot graphs showing the directors in each country.\n",
        "10. Plot graphs showing movies analog to number of seasons.\n",
        "11. What are the highest rated movies?\n"
      ]
    },
    {
      "cell_type": "code",
      "metadata": {
        "id": "DXYcV6bjDP6A",
        "colab": {
          "base_uri": "https://localhost:8080/"
        },
        "outputId": "295d83fe-81c8-45f4-dd0a-f8fa7868dd0a"
      },
      "source": [
        "from google.colab import drive\n",
        "drive.mount('/content/gdrive')"
      ],
      "execution_count": 1,
      "outputs": [
        {
          "output_type": "stream",
          "text": [
            "Mounted at /content/gdrive\n"
          ],
          "name": "stdout"
        }
      ]
    },
    {
      "cell_type": "markdown",
      "metadata": {
        "id": "zowhAG0aZ6fh"
      },
      "source": [
        "# Import Libraries"
      ]
    },
    {
      "cell_type": "code",
      "metadata": {
        "id": "OGzBWqY_aBm5"
      },
      "source": [
        "# For large and multi-dimensional arrays\n",
        "import numpy as np\n",
        "# For data manipulation and analysis\n",
        "import pandas as pd\n",
        "# Natural language processing library\n",
        "import nltk\n",
        "# For random selection \n",
        "import random\n",
        "# For data vizualization \n",
        "import matplotlib as mpl\n",
        "import matplotlib.pyplot as plt\n",
        "\n",
        "%matplotlib inline"
      ],
      "execution_count": 51,
      "outputs": []
    },
    {
      "cell_type": "markdown",
      "metadata": {
        "id": "IJOt2z_Fahrh"
      },
      "source": [
        "# Load Dataset\n",
        "Read the data using pandas read_csv method and control missing data."
      ]
    },
    {
      "cell_type": "code",
      "metadata": {
        "colab": {
          "base_uri": "https://localhost:8080/",
          "height": 535
        },
        "id": "WDEkPKZObZ8V",
        "outputId": "e21e5dc2-9fac-429f-bddd-948276f098b2"
      },
      "source": [
        "# enter the path\n",
        "Location = r'/content/gdrive/MyDrive/ΤΕΔ/data/netflix_titles.csv'\n",
        "df = pd.read_csv(Location)\n",
        "df.info()\n",
        "df.head()"
      ],
      "execution_count": 52,
      "outputs": [
        {
          "output_type": "stream",
          "text": [
            "<class 'pandas.core.frame.DataFrame'>\n",
            "RangeIndex: 7787 entries, 0 to 7786\n",
            "Data columns (total 12 columns):\n",
            " #   Column        Non-Null Count  Dtype \n",
            "---  ------        --------------  ----- \n",
            " 0   show_id       7787 non-null   object\n",
            " 1   type          7787 non-null   object\n",
            " 2   title         7787 non-null   object\n",
            " 3   director      5398 non-null   object\n",
            " 4   cast          7069 non-null   object\n",
            " 5   country       7280 non-null   object\n",
            " 6   date_added    7777 non-null   object\n",
            " 7   release_year  7787 non-null   int64 \n",
            " 8   rating        7780 non-null   object\n",
            " 9   duration      7787 non-null   object\n",
            " 10  listed_in     7787 non-null   object\n",
            " 11  description   7787 non-null   object\n",
            "dtypes: int64(1), object(11)\n",
            "memory usage: 730.2+ KB\n"
          ],
          "name": "stdout"
        },
        {
          "output_type": "execute_result",
          "data": {
            "text/html": [
              "<div>\n",
              "<style scoped>\n",
              "    .dataframe tbody tr th:only-of-type {\n",
              "        vertical-align: middle;\n",
              "    }\n",
              "\n",
              "    .dataframe tbody tr th {\n",
              "        vertical-align: top;\n",
              "    }\n",
              "\n",
              "    .dataframe thead th {\n",
              "        text-align: right;\n",
              "    }\n",
              "</style>\n",
              "<table border=\"1\" class=\"dataframe\">\n",
              "  <thead>\n",
              "    <tr style=\"text-align: right;\">\n",
              "      <th></th>\n",
              "      <th>show_id</th>\n",
              "      <th>type</th>\n",
              "      <th>title</th>\n",
              "      <th>director</th>\n",
              "      <th>cast</th>\n",
              "      <th>country</th>\n",
              "      <th>date_added</th>\n",
              "      <th>release_year</th>\n",
              "      <th>rating</th>\n",
              "      <th>duration</th>\n",
              "      <th>listed_in</th>\n",
              "      <th>description</th>\n",
              "    </tr>\n",
              "  </thead>\n",
              "  <tbody>\n",
              "    <tr>\n",
              "      <th>0</th>\n",
              "      <td>s1</td>\n",
              "      <td>TV Show</td>\n",
              "      <td>3%</td>\n",
              "      <td>NaN</td>\n",
              "      <td>João Miguel, Bianca Comparato, Michel Gomes, R...</td>\n",
              "      <td>Brazil</td>\n",
              "      <td>August 14, 2020</td>\n",
              "      <td>2020</td>\n",
              "      <td>TV-MA</td>\n",
              "      <td>4 Seasons</td>\n",
              "      <td>International TV Shows, TV Dramas, TV Sci-Fi &amp;...</td>\n",
              "      <td>In a future where the elite inhabit an island ...</td>\n",
              "    </tr>\n",
              "    <tr>\n",
              "      <th>1</th>\n",
              "      <td>s2</td>\n",
              "      <td>Movie</td>\n",
              "      <td>7:19</td>\n",
              "      <td>Jorge Michel Grau</td>\n",
              "      <td>Demián Bichir, Héctor Bonilla, Oscar Serrano, ...</td>\n",
              "      <td>Mexico</td>\n",
              "      <td>December 23, 2016</td>\n",
              "      <td>2016</td>\n",
              "      <td>TV-MA</td>\n",
              "      <td>93 min</td>\n",
              "      <td>Dramas, International Movies</td>\n",
              "      <td>After a devastating earthquake hits Mexico Cit...</td>\n",
              "    </tr>\n",
              "    <tr>\n",
              "      <th>2</th>\n",
              "      <td>s3</td>\n",
              "      <td>Movie</td>\n",
              "      <td>23:59</td>\n",
              "      <td>Gilbert Chan</td>\n",
              "      <td>Tedd Chan, Stella Chung, Henley Hii, Lawrence ...</td>\n",
              "      <td>Singapore</td>\n",
              "      <td>December 20, 2018</td>\n",
              "      <td>2011</td>\n",
              "      <td>R</td>\n",
              "      <td>78 min</td>\n",
              "      <td>Horror Movies, International Movies</td>\n",
              "      <td>When an army recruit is found dead, his fellow...</td>\n",
              "    </tr>\n",
              "    <tr>\n",
              "      <th>3</th>\n",
              "      <td>s4</td>\n",
              "      <td>Movie</td>\n",
              "      <td>9</td>\n",
              "      <td>Shane Acker</td>\n",
              "      <td>Elijah Wood, John C. Reilly, Jennifer Connelly...</td>\n",
              "      <td>United States</td>\n",
              "      <td>November 16, 2017</td>\n",
              "      <td>2009</td>\n",
              "      <td>PG-13</td>\n",
              "      <td>80 min</td>\n",
              "      <td>Action &amp; Adventure, Independent Movies, Sci-Fi...</td>\n",
              "      <td>In a postapocalyptic world, rag-doll robots hi...</td>\n",
              "    </tr>\n",
              "    <tr>\n",
              "      <th>4</th>\n",
              "      <td>s5</td>\n",
              "      <td>Movie</td>\n",
              "      <td>21</td>\n",
              "      <td>Robert Luketic</td>\n",
              "      <td>Jim Sturgess, Kevin Spacey, Kate Bosworth, Aar...</td>\n",
              "      <td>United States</td>\n",
              "      <td>January 1, 2020</td>\n",
              "      <td>2008</td>\n",
              "      <td>PG-13</td>\n",
              "      <td>123 min</td>\n",
              "      <td>Dramas</td>\n",
              "      <td>A brilliant group of students become card-coun...</td>\n",
              "    </tr>\n",
              "  </tbody>\n",
              "</table>\n",
              "</div>"
            ],
            "text/plain": [
              "  show_id  ...                                        description\n",
              "0      s1  ...  In a future where the elite inhabit an island ...\n",
              "1      s2  ...  After a devastating earthquake hits Mexico Cit...\n",
              "2      s3  ...  When an army recruit is found dead, his fellow...\n",
              "3      s4  ...  In a postapocalyptic world, rag-doll robots hi...\n",
              "4      s5  ...  A brilliant group of students become card-coun...\n",
              "\n",
              "[5 rows x 12 columns]"
            ]
          },
          "metadata": {
            "tags": []
          },
          "execution_count": 52
        }
      ]
    },
    {
      "cell_type": "markdown",
      "metadata": {
        "id": "uegngdBVlPDc"
      },
      "source": [
        "# Question 1\n",
        "Which show type is superior, the movies or the series?"
      ]
    },
    {
      "cell_type": "code",
      "metadata": {
        "colab": {
          "base_uri": "https://localhost:8080/",
          "height": 501
        },
        "id": "LKzjySgflaYG",
        "outputId": "5e9f4d09-4075-4f2d-83e9-13f7ca91ed54"
      },
      "source": [
        "df['type'].value_counts().plot(kind = 'pie', colors=['pink', 'purple'], figsize = (8, 8))\n",
        "plt.title('Pie Chart for Show Type Distribution', fontsize = 20)\n",
        "plt.xlabel('Show Type')\n",
        "plt.ylabel('Number of entries')\n",
        "plt.show()"
      ],
      "execution_count": 7,
      "outputs": [
        {
          "output_type": "display_data",
          "data": {
            "image/png": "[encoded data removed]",
            "text/plain": [
              "<Figure size 576x576 with 1 Axes>"
            ]
          },
          "metadata": {
            "tags": []
          }
        }
      ]
    },
    {
      "cell_type": "markdown",
      "metadata": {
        "id": "sEW-krwGnsxa"
      },
      "source": [
        "the most common type of shows is 'Movie'"
      ]
    },
    {
      "cell_type": "code",
      "metadata": {
        "colab": {
          "base_uri": "https://localhost:8080/"
        },
        "id": "sqWGtJxjnywF",
        "outputId": "fd559f45-8c51-4e5f-e5bc-4e7d98937f5b"
      },
      "source": [
        "print('Number of entries for \"Movie\": {}'.format(max(df['type'].value_counts())))"
      ],
      "execution_count": 8,
      "outputs": [
        {
          "output_type": "stream",
          "text": [
            "Number of entries for \"Movie\": 5377\n"
          ],
          "name": "stdout"
        }
      ]
    },
    {
      "cell_type": "markdown",
      "metadata": {
        "id": "IxO9SHrblb1c"
      },
      "source": [
        "# Question 2\n",
        "Has Netflix invested more in movies or series in recent years?"
      ]
    },
    {
      "cell_type": "code",
      "metadata": {
        "id": "Mzyld4bxljk1",
        "colab": {
          "base_uri": "https://localhost:8080/",
          "height": 622
        },
        "outputId": "6ed92899-81e0-4479-dfe1-d4ef0318eccc"
      },
      "source": [
        "# select_years = df.loc[df['release_year']>=2016]\n",
        "# select_netflix = select_years.loc[select_years['description'].str.contains('Netflix') | select_years['title'].str.contains('Netflix')] \n",
        "# select_netflix['type'].value_counts().plot(kind = 'pie', colors=['orange', 'red'], figsize = (8, 8))\n",
        "# plt.title('Pie Chart for Show Type Distribution', fontsize = 20)\n",
        "# plt.xlabel('Show Type')\n",
        "# plt.ylabel('Number of entries')\n",
        "# plt.show()\n",
        "\n",
        "# labels = df.release_year.unique()\n",
        "# # movies = groupped[groupped['type'].str.match('Movie')].count()\n",
        "\n",
        "# tv_shows = groupped[str(groupped['type']) == 'TV show']\n",
        "# tv_shows\n",
        "\n",
        "# bar chart \n",
        "\n",
        "# groupped = df.groupby(['release_year','type'])\n",
        "# groupped = groupped['show_id'].count()\n",
        "\n",
        "df.loc[df['release_year']>=1986].groupby(['release_year','type']).size().unstack().plot(kind='bar', figsize = (25, 10),stacked=True, )\n",
        "\n",
        "plt.show()\n"
      ],
      "execution_count": 101,
      "outputs": [
        {
          "output_type": "display_data",
          "data": {
            "image/png": "[encoded data removed]",
            "text/plain": [
              "<Figure size 1800x720 with 1 Axes>"
            ]
          },
          "metadata": {
            "tags": [],
            "needs_background": "light"
          }
        }
      ]
    },
    {
      "cell_type": "markdown",
      "metadata": {
        "id": "UszPFns3lnaf"
      },
      "source": [
        "# Question 3\n",
        "Which country has the most content?"
      ]
    },
    {
      "cell_type": "code",
      "metadata": {
        "id": "45zs3A1RmJGm"
      },
      "source": [
        ""
      ],
      "execution_count": null,
      "outputs": []
    },
    {
      "cell_type": "markdown",
      "metadata": {
        "id": "goppdBHNlsuU"
      },
      "source": [
        "# Question 4"
      ]
    },
    {
      "cell_type": "markdown",
      "metadata": {
        "id": "KdydCPA-lu6R"
      },
      "source": [
        "# Question 5"
      ]
    },
    {
      "cell_type": "markdown",
      "metadata": {
        "id": "IruxtPBwlwmr"
      },
      "source": [
        "# Question 6"
      ]
    },
    {
      "cell_type": "markdown",
      "metadata": {
        "id": "DY-ve1m4lyqX"
      },
      "source": [
        "# Question 7"
      ]
    },
    {
      "cell_type": "markdown",
      "metadata": {
        "id": "RIHTyWbCl0RP"
      },
      "source": [
        "# Question 8"
      ]
    },
    {
      "cell_type": "markdown",
      "metadata": {
        "id": "49aOkQGQl2am"
      },
      "source": [
        "# Question 9"
      ]
    },
    {
      "cell_type": "markdown",
      "metadata": {
        "id": "z6sinrlIl4SM"
      },
      "source": [
        "# Question 10"
      ]
    },
    {
      "cell_type": "markdown",
      "metadata": {
        "id": "VGw03vhel6dt"
      },
      "source": [
        "# Question 11"
      ]
    },
    {
      "cell_type": "markdown",
      "metadata": {
        "id": "LfaQfQaFl8Re"
      },
      "source": [
        "# Recommendation system"
      ]
    }
  ]
}